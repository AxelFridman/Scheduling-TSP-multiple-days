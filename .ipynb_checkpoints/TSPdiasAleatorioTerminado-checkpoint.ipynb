{
 "cells": [
  {
   "cell_type": "markdown",
   "id": "1e61b16c",
   "metadata": {},
   "source": [
    "# Proyecto recorridos de un vendedor multiples dias. Instancias aleatorias."
   ]
  },
  {
   "cell_type": "markdown",
   "id": "9d5da393",
   "metadata": {},
   "source": [
    "Se importan todas las librerias a ser usadas por el modelo"
   ]
  },
  {
   "cell_type": "code",
   "execution_count": null,
   "id": "8b907dcb",
   "metadata": {},
   "outputs": [],
   "source": [
    "import numpy as np\n",
    "import pandas as pd\n",
    "import setup\n",
    "from docplex.mp.model import Model\n",
    "from docplex.mp.conflict_refiner import ConflictRefiner\n",
    "import time"
   ]
  },
  {
   "cell_type": "markdown",
   "id": "d7316d9f",
   "metadata": {},
   "source": [
    "Se reciben los parametros generales del modelo"
   ]
  },
  {
   "cell_type": "code",
   "execution_count": null,
   "id": "c6f6c459",
   "metadata": {},
   "outputs": [],
   "source": [
    "tiempoEnLocal = 45 #Parametro que nos marca cuantos minutos se queda un vendedor en un local\n",
    "\n",
    "maxTiempo = 360 # Es la maxima cantidad de minutos que puede tener el dia de un vendedor EN TOTAL,\n",
    "                # incluye traslados desde la oficina al primer local al principo del dia, \n",
    "                # incluye tiempos en cada local, \n",
    "                # incluye todos los traslados de local a otro local,\n",
    "                # e incluye el ultimo tramo desde el ultimo local hasta la oficina.\n",
    "                \n",
    "locs = 25 # Este parametro es porque vamos a generar esta cantidad de locales aleatorios en un mapa. (sin incluir oficina)"
   ]
  },
  {
   "cell_type": "code",
   "execution_count": null,
   "id": "ed042916",
   "metadata": {},
   "outputs": [],
   "source": []
  },
  {
   "cell_type": "code",
   "execution_count": 2,
   "id": "01a7c059",
   "metadata": {},
   "outputs": [],
   "source": [
    "locales = list(range(0,locs))\n",
    "dias = list(range(0, locs))\n",
    "nombresLocales = list(map(str, locales))\n",
    "distancias = np.random.rand(locs,locs)*60\n",
    "distOfi= np.random.rand(locs)\n"
   ]
  },
  {
   "cell_type": "code",
   "execution_count": 3,
   "id": "033022dc",
   "metadata": {},
   "outputs": [],
   "source": [
    "mdl = Model(name=\"modeladoTSPdays\")"
   ]
  },
  {
   "cell_type": "code",
   "execution_count": 4,
   "id": "10529b79",
   "metadata": {},
   "outputs": [],
   "source": [
    "visito = mdl.binary_var_matrix(locales, dias, name= \"v\", key_format=\"visito\")\n",
    "esRaiz = mdl.binary_var_matrix(locales, dias, name= \"esR\", key_format=\"esRaiz\")\n",
    "esFinal = mdl.binary_var_matrix(locales, dias, name= \"esF\", key_format=\"esFinal\")\n",
    "tiempoUsado = mdl.continuous_var_list(dias, name= \"tiUs\", key_format=\"tiempoUsado\")\n",
    "usaDia = mdl.binary_var_list(dias, name= \"usaDia\", key_format=\"usaDia\")\n",
    "tramo = mdl.binary_var_cube(locales, locales, dias, name= \"tramo\", key_format=\"tramo\")\n",
    "orden = mdl.continuous_var_matrix(locales, dias, name= \"orden\", key_format=\"orden\")\n",
    "M = 100000\n",
    "#theta = mdl.binary_var_matrix(locales, locales, name= \"theta\", key_format=\"theta\")\n",
    "#ui = mdl.continuous_var_matrix(locales, dias, name= \"uidia\", key_format=\"uidia\")\n",
    "#delta = mdl.integer_var_cube(locales, locales, dias, name= \"delta\")"
   ]
  },
  {
   "cell_type": "code",
   "execution_count": 5,
   "id": "717976c1",
   "metadata": {},
   "outputs": [
    {
     "name": "stdout",
     "output_type": "stream",
     "text": [
      "0.7288885116577148\n"
     ]
    }
   ],
   "source": [
    "tIni = time.time()\n",
    "mdl.add_constraints((orden[l1,d] + tramo[l1,l2,d]<=orden[l2,d] + 1000*(1-tramo[l1,l2,d])\n",
    "                     for l1 in locales for l2 in locales for d in dias))\n",
    "tfin = time.time()\n",
    "print(tfin-tIni )"
   ]
  },
  {
   "cell_type": "markdown",
   "id": "dff41099",
   "metadata": {},
   "source": [
    "tIni = time.time()\n",
    "for d in dias:\n",
    "    for l1 in locales:\n",
    "        for l2 in locales:\n",
    "            mdl.add_constraint_(orden[l1,d] + tramo[l1,l2,d]<=orden[l2,d] + 1000*(1-tramo[l1,l2,d]))\n",
    "tfin = time.time()\n",
    "print(tfin-tIni )"
   ]
  },
  {
   "cell_type": "code",
   "execution_count": 6,
   "id": "244aa5da",
   "metadata": {},
   "outputs": [],
   "source": [
    "for d in dias:\n",
    "    for l1 in locales:\n",
    "        sumaAdy = 0\n",
    "        sumaExc = 0\n",
    "        for l2 in locales:\n",
    "            sumaAdy = sumaAdy + tramo[l2, l1, d]\n",
    "            sumaExc = sumaExc + tramo[l1, l2, d]\n",
    "        mdl.add_constraint_(visito[l1, d] == sumaAdy + esRaiz[l1,d])\n",
    "        mdl.add_constraint_(visito[l1, d] == sumaExc + esFinal[l1,d])"
   ]
  },
  {
   "cell_type": "code",
   "execution_count": 7,
   "id": "0921e188",
   "metadata": {},
   "outputs": [],
   "source": [
    "for l1 in locales:\n",
    "    vis = 0\n",
    "    for d in dias:\n",
    "        vis = vis + visito[l1,d]\n",
    "        mdl.add_constraint_(tramo[l1,l1,d]==0)\n",
    "    mdl.add_constraint_(vis==1)"
   ]
  },
  {
   "cell_type": "code",
   "execution_count": 8,
   "id": "05f9ec06",
   "metadata": {},
   "outputs": [],
   "source": [
    "for l1 in locales:\n",
    "    for l2 in locales:\n",
    "        cantTramos = 0\n",
    "        for d in dias:\n",
    "            cantTramos = cantTramos + tramo[l1,l2,d]\n",
    "        mdl.add_constraint_(cantTramos<=1)"
   ]
  },
  {
   "cell_type": "code",
   "execution_count": 9,
   "id": "7e490cbb",
   "metadata": {},
   "outputs": [],
   "source": [
    "for l1 in locales:\n",
    "    for l2 in locales:\n",
    "        for d in dias:\n",
    "            mdl.add_constraint_(tramo[l1,l2,d] + tramo[l2,l1,d] <=1)\n",
    "            mdl.add_constraint_(visito[l1,d] + visito[l2,d] >= 2*(tramo[l1,l2,d] + tramo[l2,l1,d]))\n"
   ]
  },
  {
   "cell_type": "code",
   "execution_count": 10,
   "id": "64f60aee",
   "metadata": {},
   "outputs": [],
   "source": [
    "for d in dias:\n",
    "    esr = 0\n",
    "    esf = 0\n",
    "    for l1 in locales:\n",
    "        esr = esr + esRaiz[l1,d]\n",
    "        esf = esf + esFinal[l1,d]\n",
    "    mdl.add_constraint_(usaDia[d] == esr)\n",
    "    mdl.add_constraint_(usaDia[d] == esf)\n",
    "    "
   ]
  },
  {
   "cell_type": "code",
   "execution_count": 11,
   "id": "58e39e54",
   "metadata": {},
   "outputs": [],
   "source": [
    "\n",
    "sumaDias = 0\n",
    "sumaTiempos = 0\n",
    "for d in dias:\n",
    "    mdl.add_constraint_(M*usaDia[d] >= tiempoUsado[d])\n",
    "    mdl.add_constraint_(usaDia[d] <= tiempoUsado[d])\n",
    "    mdl.add_constraint_(tiempoUsado[d]<=maxTiempo)\n",
    "    sumaDias = sumaDias + usaDia[d]\n",
    "    sumaTiempos = sumaTiempos + tiempoUsado[d]\n",
    "mdl.minimize(sumaDias*(1000000) +  sumaTiempos)"
   ]
  },
  {
   "cell_type": "code",
   "execution_count": 12,
   "id": "b81a4335",
   "metadata": {},
   "outputs": [],
   "source": [
    "for d in dias:\n",
    "    sumaTus = 0\n",
    "    \n",
    "    for l1 in locales:\n",
    "        for l2 in locales:\n",
    "            sumaTus = sumaTus + tramo[l1,l2,d]*distancias[l1][l2]\n",
    "    for l1 in locales:\n",
    "        sumaTus = sumaTus + visito[l1,d]*tiempoEnLocal\n",
    "        sumaTus = sumaTus + esRaiz[l1,d]*distOfi[l1]\n",
    "        sumaTus = sumaTus + esFinal[l1,d]*distOfi[l1]\n",
    "    mdl.add_constraint_(tiempoUsado[d] == sumaTus)\n",
    "\n",
    "            "
   ]
  },
  {
   "cell_type": "code",
   "execution_count": 13,
   "id": "2abcf11f",
   "metadata": {},
   "outputs": [],
   "source": [
    "# Ordena los dias, no uses el 3 si no usaste el 1 y 2\n",
    "for d in dias:\n",
    "    if(d!=0):\n",
    "        mdl.add_constraint_(usaDia[d-1] >= usaDia[d])"
   ]
  },
  {
   "cell_type": "code",
   "execution_count": 14,
   "id": "d402d421",
   "metadata": {},
   "outputs": [],
   "source": [
    "mdl.set_time_limit(200) # segundos maximo\n",
    "msol = mdl.solve()"
   ]
  },
  {
   "cell_type": "code",
   "execution_count": 15,
   "id": "cbb5b527",
   "metadata": {},
   "outputs": [],
   "source": [
    "#resolvedor = ConflictRefiner()"
   ]
  },
  {
   "cell_type": "code",
   "execution_count": 16,
   "id": "36539e59",
   "metadata": {},
   "outputs": [],
   "source": [
    "#ress = resolvedor.refine_conflict(mdl)"
   ]
  },
  {
   "cell_type": "code",
   "execution_count": 17,
   "id": "124d0577",
   "metadata": {},
   "outputs": [],
   "source": [
    "#ress.display_stats()"
   ]
  },
  {
   "cell_type": "code",
   "execution_count": 18,
   "id": "19c4da13",
   "metadata": {},
   "outputs": [],
   "source": [
    "#ress.display()"
   ]
  },
  {
   "cell_type": "code",
   "execution_count": 21,
   "id": "c204624d",
   "metadata": {},
   "outputs": [
    {
     "name": "stdout",
     "output_type": "stream",
     "text": [
      "El vendedor recorre todos sus clientes en 4 dias\n",
      "\n",
      "\n",
      "En el dia 1: \n",
      "visito 5 locales en un tiempo de 230.71 minutos\n",
      "Empezo por 6\n",
      "Luego a 24\n",
      "Luego a 11\n",
      "Luego a 16\n",
      "Luego a 19\n",
      "\n",
      "En el dia 2: \n",
      "visito 6 locales en un tiempo de 287.42 minutos\n",
      "Empezo por 10\n",
      "Luego a 14\n",
      "Luego a 12\n",
      "Luego a 13\n",
      "Luego a 5\n",
      "Luego a 0\n",
      "\n",
      "En el dia 3: \n",
      "visito 7 locales en un tiempo de 337.59 minutos\n",
      "Empezo por 9\n",
      "Luego a 3\n",
      "Luego a 18\n",
      "Luego a 15\n",
      "Luego a 4\n",
      "Luego a 2\n",
      "Luego a 8\n",
      "\n",
      "En el dia 4: \n",
      "visito 7 locales en un tiempo de 328.41 minutos\n",
      "Empezo por 17\n",
      "Luego a 22\n",
      "Luego a 1\n",
      "Luego a 20\n",
      "Luego a 7\n",
      "Luego a 21\n",
      "Luego a 23\n"
     ]
    }
   ],
   "source": [
    "print(\"El vendedor recorre todos sus clientes en \"+str(int(msol.get_value(sumaDias)))+\" dias\")\n",
    "print()\n",
    "for d in range(0,int(msol.get_value(sumaDias))):\n",
    "    print()\n",
    "    print(\"En el dia \" + str(d+1) + \": \")\n",
    "    localinicio = -1\n",
    "    localfinal = -1\n",
    "    cantLoc = 0\n",
    "    for l1 in locales:\n",
    "        if(msol.get_value(esFinal[l1,d])):\n",
    "            localfinal = l1\n",
    "        if(msol.get_value(esRaiz[l1,d])):\n",
    "            localinicio = l1\n",
    "        if(msol.get_value(visito[l1,d])>0.5):\n",
    "            cantLoc = cantLoc + 1\n",
    "            \n",
    "            \n",
    "    print(\"visito \" + str(cantLoc) + \" locales en un tiempo de \" + str(round(msol.get_value(tiempoUsado[d]),2))+ \" minutos\")\n",
    "    print(\"Empezo por \"+ nombresLocales[localinicio] )\n",
    "    localActual = localinicio\n",
    "    listaLocales = [localActual]\n",
    "    while(localActual!=localfinal):\n",
    "        for l2 in locales:\n",
    "            if(msol.get_value(tramo[localActual,l2,d])>0.5):\n",
    "                print(\"Luego a \"+ nombresLocales[l2] )\n",
    "                localActual = l2\n",
    "                listaLocales.append(l2)\n",
    "                l2 = 0\n",
    "    if(len(listaLocales)!= cantLoc):\n",
    "        print(\"TIENE SUBTOURS!!!!!!!! \")\n",
    "        print(\"TIENE SUBTOURS!!!!!!!! \")\n",
    "        print(\"TIENE SUBTOURS!!!!!!!! \")\n",
    "    \n",
    "\n",
    "    "
   ]
  },
  {
   "cell_type": "code",
   "execution_count": null,
   "id": "05ce3706",
   "metadata": {},
   "outputs": [],
   "source": []
  }
 ],
 "metadata": {
  "kernelspec": {
   "display_name": "Python 3 (ipykernel)",
   "language": "python",
   "name": "python3"
  },
  "language_info": {
   "codemirror_mode": {
    "name": "ipython",
    "version": 3
   },
   "file_extension": ".py",
   "mimetype": "text/x-python",
   "name": "python",
   "nbconvert_exporter": "python",
   "pygments_lexer": "ipython3",
   "version": "3.9.13"
  }
 },
 "nbformat": 4,
 "nbformat_minor": 5
}
