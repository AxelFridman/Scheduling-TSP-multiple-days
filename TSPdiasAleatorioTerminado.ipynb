{
 "cells": [
  {
   "cell_type": "markdown",
   "id": "c79b933d",
   "metadata": {},
   "source": [
    "# Proyecto recorridos de un vendedor multiples dias. Instancias aleatorias."
   ]
  },
  {
   "cell_type": "markdown",
   "id": "39269192",
   "metadata": {},
   "source": [
    "Se importan todas las librerias a ser usadas por el modelo"
   ]
  },
  {
   "cell_type": "code",
   "execution_count": 1,
   "id": "8b907dcb",
   "metadata": {
    "scrolled": true
   },
   "outputs": [],
   "source": [
    "import numpy as np\n",
    "import pandas as pd\n",
    "import setup\n",
    "from docplex.mp.model import Model\n",
    "from docplex.mp.conflict_refiner import ConflictRefiner\n",
    "import time\n",
    "import matplotlib.pyplot as plt"
   ]
  },
  {
   "cell_type": "markdown",
   "id": "f6e42937",
   "metadata": {},
   "source": [
    "Se reciben los parametros generales del modelo"
   ]
  },
  {
   "cell_type": "code",
   "execution_count": 2,
   "id": "adfb6e4f",
   "metadata": {},
   "outputs": [],
   "source": [
    "tiempoEnLocal = 30 #Parametro que nos marca cuantos minutos se queda un vendedor en un local\n",
    "\n",
    "maxTiempo = 360 # Es la maxima cantidad de minutos que puede tener el dia de un vendedor EN TOTAL,\n",
    "                # incluye traslados desde la oficina al primer local al principo del dia, \n",
    "                # incluye tiempos en cada local, \n",
    "                # incluye todos los traslados de local a otro local,\n",
    "                # e incluye el ultimo tramo desde el ultimo local hasta la oficina.\n",
    "                \n",
    "locs = 40 # Este parametro es porque vamos a generar esta cantidad de locales aleatorios en un mapa. (sin incluir oficina)\n",
    "\n",
    "esparcidadLocales = 60 # este parametro toca cuan distantes estan los locales entre si, al generarlos se generaran\n",
    "                        # en una posicion aleatoria entre 0 y este numero, en ambas coordenadas del mapa.\n",
    "    \n",
    "ruidoDeMapa = 0.0 #este parametro nos dice cuan grave puede llegar a ser el trafico para hacer el grafo de distancias asimetrico\n",
    "                # es decir, no vale que la distancia de x a y sea igual a la distancia de y a x. "
   ]
  },
  {
   "cell_type": "markdown",
   "id": "1e7af5fc",
   "metadata": {},
   "source": [
    "Se define la funcion que nos dara la matriz de distancias y las distancias desde y hasta la ofi de cada local. teniendo un poco de ruido en la generacion de distancias"
   ]
  },
  {
   "cell_type": "code",
   "execution_count": 3,
   "id": "e7cd9ab7",
   "metadata": {},
   "outputs": [],
   "source": [
    "def generarMatrizDistancias(posicionesX, posicionesY, posicionOfi, cantRuido):\n",
    "    long = len(posicionesX)\n",
    "    distancias = np.zeros([long,long])\n",
    "    distDesdeOfi = np.zeros(long)\n",
    "    distHaciaOfi = np.zeros(long)\n",
    "    for i in range(0, long):\n",
    "        ruido = np.random.rand(1)[0]*cantRuido\n",
    "        distDesdeOfi[i] = (1+ruido)* (((posicionesX[i]-posicionOfi[0])**2 + (posicionesY[i]-posicionOfi[1])**2)**0.5)\n",
    "        ruido = np.random.rand(1)[0]*cantRuido\n",
    "        distHaciaOfi[i] = (1+ruido)* (((posicionesX[i]-posicionOfi[0])**2 + (posicionesY[i]-posicionOfi[1])**2)**0.5)\n",
    "        for j in range(0, long):\n",
    "            ruido = np.random.rand(1)[0]*cantRuido\n",
    "            distancias[i][j] = (1+ruido)* (((posicionesX[i]-posicionesX[j])**2 + (posicionesY[i]-posicionesY[j])**2)**0.5)\n",
    "    return distancias, distDesdeOfi, distHaciaOfi"
   ]
  },
  {
   "cell_type": "markdown",
   "id": "70ba90ae",
   "metadata": {},
   "source": [
    "Se generan las listas de indices donde se moveran las variables y se genera la matriz y las listas de distancias"
   ]
  },
  {
   "cell_type": "code",
   "execution_count": 4,
   "id": "01a7c059",
   "metadata": {},
   "outputs": [],
   "source": [
    "locales = list(range(0,locs))\n",
    "dias = list(range(0, 13)) # Podemos definir que tenga una menor cantidad de dias disponibles, \n",
    "                            # para garantizar satisfabilidad pondria la misma cantidad de locs. \n",
    "                            # Pero para ser mas exigente solo la mitad\n",
    "nombresLocales = list(map(str, locales))\n",
    "posicionesX = np.random.rand(locs)*esparcidadLocales\n",
    "posicionesY = np.random.rand(locs)*esparcidadLocales\n",
    "posicionOfi = [esparcidadLocales/2, esparcidadLocales/2] #Se asume que la ofi esta en el medio del mapa\n",
    "\n",
    "distancias , distDesdeOfi, distHaciaOfi = generarMatrizDistancias(posicionesX, posicionesY, posicionOfi, ruidoDeMapa)\n"
   ]
  },
  {
   "cell_type": "markdown",
   "id": "3c2e0dd0",
   "metadata": {},
   "source": [
    "Graficamos las ubicaciones generadas"
   ]
  },
  {
   "cell_type": "code",
   "execution_count": 5,
   "id": "68d2e9a9",
   "metadata": {},
   "outputs": [
    {
     "data": {
      "text/plain": [
       "Text(0, 0.5, 'Posicion eje y')"
      ]
     },
     "execution_count": 5,
     "metadata": {},
     "output_type": "execute_result"
    },
    {
     "data": {
      "image/png": "[encoded data removed]",
      "text/plain": [
       "<Figure size 640x480 with 1 Axes>"
      ]
     },
     "metadata": {},
     "output_type": "display_data"
    }
   ],
   "source": [
    "plt.scatter(posicionesX,posicionesY, c=\"red\")\n",
    "plt.scatter(posicionOfi[0], posicionOfi[1], c=\"blue\")\n",
    "plt.legend([\"Locales\",\"Oficina\"])\n",
    "plt.title(\"Grafico ubicaciones (mapa aleatorio)\")\n",
    "plt.xlabel(\"Posicion eje x\")\n",
    "plt.ylabel(\"Posicion eje y\")"
   ]
  },
  {
   "cell_type": "markdown",
   "id": "5bfeb00e",
   "metadata": {},
   "source": [
    "Definimod modelo y declaramos las variables que vamos a usar"
   ]
  },
  {
   "cell_type": "code",
   "execution_count": 6,
   "id": "033022dc",
   "metadata": {},
   "outputs": [],
   "source": [
    "mdl = Model(name=\"modeladoTSPdays\")"
   ]
  },
  {
   "cell_type": "code",
   "execution_count": 7,
   "id": "10529b79",
   "metadata": {},
   "outputs": [],
   "source": [
    "visito = mdl.binary_var_matrix(locales, dias, name= \"v\", key_format=\"visito\")\n",
    "esRaiz = mdl.binary_var_matrix(locales, dias, name= \"esR\", key_format=\"esRaiz\")\n",
    "esFinal = mdl.binary_var_matrix(locales, dias, name= \"esF\", key_format=\"esFinal\")\n",
    "tiempoUsado = mdl.continuous_var_list(dias, name= \"tiUs\", key_format=\"tiempoUsado\")\n",
    "usaDia = mdl.binary_var_list(dias, name= \"usaDia\", key_format=\"usaDia\")\n",
    "tramo = mdl.binary_var_cube(locales, locales, dias, name= \"tramo\", key_format=\"tramo\")\n",
    "orden = mdl.continuous_var_matrix(locales, dias, name= \"orden\", key_format=\"orden\")\n",
    "M = 100000"
   ]
  },
  {
   "cell_type": "markdown",
   "id": "7b52f8aa",
   "metadata": {},
   "source": [
    "No vale que en un recorrido haya subciclos, entonces tiene que haber un orden estricto en cuanto a cuando visito cada local."
   ]
  },
  {
   "cell_type": "code",
   "execution_count": 8,
   "id": "182c81a1",
   "metadata": {},
   "outputs": [],
   "source": [
    "for d in dias:\n",
    "    for l1 in locales:\n",
    "        for l2 in locales:\n",
    "            mdl.add_constraint_(orden[l1,d] + tramo[l1,l2,d]<=orden[l2,d] + 1000*(1-tramo[l1,l2,d]))\n"
   ]
  },
  {
   "cell_type": "markdown",
   "id": "fe4e29c5",
   "metadata": {},
   "source": [
    "Si es que visito un nodo un determinado dia, entonces:\n",
    "\n",
    "La cantidad de aristas hacia afuera de un nodo es 1 o es el final del recorrido y de ahi va directo a la oficina.\n",
    "Analogamente la cantidad de aristas hacia adentro de un nodo es 1 o es el principio del recorrido (raiz)."
   ]
  },
  {
   "cell_type": "code",
   "execution_count": 9,
   "id": "244aa5da",
   "metadata": {},
   "outputs": [],
   "source": [
    "for d in dias:\n",
    "    for l1 in locales:\n",
    "        sumaAdy = 0\n",
    "        sumaExc = 0\n",
    "        for l2 in locales:\n",
    "            sumaAdy = sumaAdy + tramo[l2, l1, d]\n",
    "            sumaExc = sumaExc + tramo[l1, l2, d]\n",
    "        mdl.add_constraint_(visito[l1, d] == sumaAdy + esRaiz[l1,d])\n",
    "        mdl.add_constraint_(visito[l1, d] == sumaExc + esFinal[l1,d])"
   ]
  },
  {
   "cell_type": "markdown",
   "id": "f243a4af",
   "metadata": {},
   "source": [
    "Tenes que visitar a todos los locales exactamente 1 vez a lo largo de todos los dias, y no podes viajar desde un nodo a ese mismo nodo"
   ]
  },
  {
   "cell_type": "code",
   "execution_count": 10,
   "id": "0921e188",
   "metadata": {},
   "outputs": [],
   "source": [
    "for l1 in locales:\n",
    "    vis = 0\n",
    "    for d in dias:\n",
    "        vis = vis + visito[l1,d]\n",
    "        mdl.add_constraint_(tramo[l1,l1,d]==0)\n",
    "    mdl.add_constraint_(vis==1)"
   ]
  },
  {
   "cell_type": "markdown",
   "id": "cebec878",
   "metadata": {},
   "source": [
    "Solamente puedo hacer una arista en un solo dia, y no en muchos dias."
   ]
  },
  {
   "cell_type": "code",
   "execution_count": 11,
   "id": "05f9ec06",
   "metadata": {},
   "outputs": [],
   "source": [
    "for l1 in locales:\n",
    "    for l2 in locales:\n",
    "        cantTramos = 0\n",
    "        for d in dias:\n",
    "            cantTramos = cantTramos + tramo[l1,l2,d]\n",
    "        mdl.add_constraint_(cantTramos<=1)"
   ]
  },
  {
   "cell_type": "markdown",
   "id": "57e97621",
   "metadata": {},
   "source": [
    "Si use una arista en un sentido, no la puedo usar en el sentido opuesto, ademas si use un tramo de nodo A a nodo B entonces ese dia visite ambos nodos A y B."
   ]
  },
  {
   "cell_type": "code",
   "execution_count": 12,
   "id": "7e490cbb",
   "metadata": {},
   "outputs": [],
   "source": [
    "for l1 in locales:\n",
    "    for l2 in locales:\n",
    "        for d in dias:\n",
    "            mdl.add_constraint_(tramo[l1,l2,d] + tramo[l2,l1,d] <=1)\n",
    "            mdl.add_constraint_(visito[l1,d] + visito[l2,d] >= 2*(tramo[l1,l2,d] + tramo[l2,l1,d]))\n"
   ]
  },
  {
   "cell_type": "markdown",
   "id": "26d95c2c",
   "metadata": {},
   "source": [
    "Si un dia lo utilizo para visitar locales (puede ser que los dias del final no sean necesarios) entonces aquellos dias que haya recorrido debo tener exactamente un punto de partida raiz y un solo final."
   ]
  },
  {
   "cell_type": "code",
   "execution_count": 13,
   "id": "64f60aee",
   "metadata": {},
   "outputs": [],
   "source": [
    "for d in dias:\n",
    "    esr = 0\n",
    "    esf = 0\n",
    "    for l1 in locales:\n",
    "        esr = esr + esRaiz[l1,d]\n",
    "        esf = esf + esFinal[l1,d]\n",
    "    mdl.add_constraint_(usaDia[d] == esr)\n",
    "    mdl.add_constraint_(usaDia[d] == esf)\n",
    "    "
   ]
  },
  {
   "cell_type": "markdown",
   "id": "4f8dc028",
   "metadata": {},
   "source": [
    "Si viaje e hice algun traslado entonces use el dia, si no hice ningun viaje entonces no use el dia.\n",
    "\n",
    "Es importante que cada dia que haya usado no supere mi limite de tiempo diario.\n",
    "\n",
    "Busco minimizar principalmente la cantidad de dias que uso y secundariamente la cantidad de tiempo en esos dias."
   ]
  },
  {
   "cell_type": "code",
   "execution_count": 14,
   "id": "58e39e54",
   "metadata": {},
   "outputs": [],
   "source": [
    "\n",
    "sumaDias = 0\n",
    "sumaTiempos = 0\n",
    "for d in dias:\n",
    "    mdl.add_constraint_(M*usaDia[d] >= tiempoUsado[d])\n",
    "    mdl.add_constraint_(usaDia[d] <= tiempoUsado[d])\n",
    "    mdl.add_constraint_(tiempoUsado[d]<=maxTiempo)\n",
    "    sumaDias = sumaDias + usaDia[d]\n",
    "    sumaTiempos = sumaTiempos + tiempoUsado[d]\n",
    "mdl.minimize(sumaDias*(100000) +  sumaTiempos)"
   ]
  },
  {
   "cell_type": "markdown",
   "id": "62cc9ae6",
   "metadata": {},
   "source": [
    "El tiempo usado es la cantidad de locales que visitaste, y todos los tramos."
   ]
  },
  {
   "cell_type": "code",
   "execution_count": 15,
   "id": "b81a4335",
   "metadata": {},
   "outputs": [],
   "source": [
    "for d in dias:\n",
    "    sumaTus = 0\n",
    "    \n",
    "    for l1 in locales:\n",
    "        for l2 in locales:\n",
    "            sumaTus = sumaTus + tramo[l1,l2,d]*distancias[l1][l2]\n",
    "    for l1 in locales:\n",
    "        sumaTus = sumaTus + visito[l1,d]*tiempoEnLocal\n",
    "        sumaTus = sumaTus + esRaiz[l1,d]*distDesdeOfi[l1]\n",
    "        sumaTus = sumaTus + esFinal[l1,d]*distHaciaOfi[l1]\n",
    "    mdl.add_constraint_(tiempoUsado[d] == sumaTus)\n",
    "\n",
    "            "
   ]
  },
  {
   "cell_type": "markdown",
   "id": "6107b986",
   "metadata": {},
   "source": [
    "Ordena los dias, no uses el 3 si no usaste el 1 y 2\n"
   ]
  },
  {
   "cell_type": "code",
   "execution_count": 16,
   "id": "2abcf11f",
   "metadata": {},
   "outputs": [],
   "source": [
    "for d in dias:\n",
    "    if(d!=0):\n",
    "        mdl.add_constraint_(usaDia[d-1] >= usaDia[d])"
   ]
  },
  {
   "cell_type": "markdown",
   "id": "17e413d6",
   "metadata": {},
   "source": [
    "Solver y su tiempo de corrida una vez definido"
   ]
  },
  {
   "cell_type": "code",
   "execution_count": null,
   "id": "d402d421",
   "metadata": {},
   "outputs": [],
   "source": [
    "mdl.set_time_limit(600) # segundos maximo\n",
    "msol = mdl.solve()"
   ]
  },
  {
   "cell_type": "markdown",
   "id": "0f143b42",
   "metadata": {},
   "source": [
    "Respuesta en texto"
   ]
  },
  {
   "cell_type": "code",
   "execution_count": null,
   "id": "c204624d",
   "metadata": {},
   "outputs": [],
   "source": [
    "\n",
    "print(\"El vendedor recorre todos sus clientes en \"+str(int(msol.get_value(sumaDias)))+\" dias\")\n",
    "print()\n",
    "for d in range(0,int(msol.get_value(sumaDias))):\n",
    "    print()\n",
    "    print(\"En el dia \" + str(d+1) + \": \")\n",
    "    localinicio = -1\n",
    "    localfinal = -1\n",
    "    cantLoc = 0\n",
    "    for l1 in locales:\n",
    "        if(msol.get_value(esFinal[l1,d])):\n",
    "            localfinal = l1\n",
    "        if(msol.get_value(esRaiz[l1,d])):\n",
    "            localinicio = l1\n",
    "        if(msol.get_value(visito[l1,d])>0.5):\n",
    "            cantLoc = cantLoc + 1\n",
    "            \n",
    "            \n",
    "    print(\"visito \" + str(cantLoc) + \" locales en un tiempo de \" + str(round(msol.get_value(tiempoUsado[d]),2))+ \" minutos\")\n",
    "    print(\"Empezo por \"+ nombresLocales[localinicio] )\n",
    "    localActual = localinicio\n",
    "    listaLocales = [localActual]\n",
    "    while(localActual!=localfinal):\n",
    "        for l2 in locales:\n",
    "            if(msol.get_value(tramo[localActual,l2,d])>0.5):\n",
    "                print(\"Luego a \"+ nombresLocales[l2] )\n",
    "                localActual = l2\n",
    "                listaLocales.append(l2)\n",
    "                l2 = 0\n",
    "\n",
    "    \n",
    "\n",
    "    "
   ]
  },
  {
   "cell_type": "code",
   "execution_count": null,
   "id": "c0c7fee3",
   "metadata": {},
   "outputs": [],
   "source": [
    "def graficarFlecha(origenX, origenY, destinoX, destinoY, col):\n",
    "    plt.arrow(origenX, origenY, destinoX-origenX, destinoY-origenY, length_includes_head=True, head_width=1, color=col)\n"
   ]
  },
  {
   "cell_type": "code",
   "execution_count": null,
   "id": "cc18efca",
   "metadata": {},
   "outputs": [],
   "source": [
    "plt.scatter(posicionesX,posicionesY, c=\"red\")\n",
    "plt.scatter(posicionOfi[0], posicionOfi[1], c=\"blue\")\n",
    "plt.legend([\"Locales\",\"Oficina\"])\n",
    "plt.title(\"Grafico ubicaciones (mapa aleatorio)\")\n",
    "plt.xlabel(\"Posicion eje x\")\n",
    "plt.ylabel(\"Posicion eje y\")\n",
    "\n",
    "cols = [\"cyan\",\"deeppink\",\"maroon\", \"gold\",\"darkgreen\",\"olivedrab\",\"orange\",\"lime\",\"blue\", \"purple\", \"black\", \"yellow\",\"gray\"]\n",
    "for d in range(0,int(msol.get_value(sumaDias))):\n",
    "    localinicio = -1\n",
    "    localfinal = -1\n",
    "    cantLoc = 0\n",
    "    for l1 in locales:\n",
    "        if(msol.get_value(esFinal[l1,d])):\n",
    "            localfinal = l1\n",
    "        if(msol.get_value(esRaiz[l1,d])):\n",
    "            localinicio = l1\n",
    "        if(msol.get_value(visito[l1,d])>0.5):\n",
    "            cantLoc = cantLoc + 1\n",
    "            \n",
    "    graficarFlecha(posicionOfi[0], posicionOfi[1], posicionesX[localinicio], posicionesY[localinicio], cols[d])\n",
    "    graficarFlecha(posicionesX[localfinal], posicionesY[localfinal],posicionOfi[0], posicionOfi[1], cols[d])\n",
    "\n",
    "    localActual = localinicio\n",
    "    listaLocales = [localActual]\n",
    "    while(localActual!=localfinal):\n",
    "        for l2 in locales:\n",
    "            if(msol.get_value(tramo[localActual,l2,d])>0.5):\n",
    "                #print(\"Luego a \"+ nombresLocales[l2] )\n",
    "                graficarFlecha( posicionesX[localActual], posicionesY[localActual], posicionesX[l2], posicionesY[l2], cols[d])\n",
    "                localActual = l2\n",
    "                listaLocales.append(l2)\n",
    "                l2 = 0\n",
    "    \n"
   ]
  }
 ],
 "metadata": {
  "kernelspec": {
   "display_name": "Python 3 (ipykernel)",
   "language": "python",
   "name": "python3"
  },
  "language_info": {
   "codemirror_mode": {
    "name": "ipython",
    "version": 3
   },
   "file_extension": ".py",
   "mimetype": "text/x-python",
   "name": "python",
   "nbconvert_exporter": "python",
   "pygments_lexer": "ipython3",
   "version": "3.9.13"
  }
 },
 "nbformat": 4,
 "nbformat_minor": 5
}
